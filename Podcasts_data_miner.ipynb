{
  "nbformat": 4,
  "nbformat_minor": 0,
  "metadata": {
    "colab": {
      "name": "Podcasts data miner.ipynb",
      "provenance": [],
      "include_colab_link": true
    },
    "kernelspec": {
      "name": "python3",
      "display_name": "Python 3"
    }
  },
  "cells": [
    {
      "cell_type": "markdown",
      "metadata": {
        "id": "view-in-github",
        "colab_type": "text"
      },
      "source": [
        "<a href=\"https://colab.research.google.com/github/Thamarai-Selvam/Itunes-Podcast-DB-India/blob/master/Podcasts_data_miner.ipynb\" target=\"_parent\"><img src=\"https://colab.research.google.com/assets/colab-badge.svg\" alt=\"Open In Colab\"/></a>"
      ]
    },
    {
      "cell_type": "code",
      "metadata": {
        "id": "g_0pARNiIKyE",
        "colab_type": "code",
        "colab": {
          "base_uri": "https://localhost:8080/",
          "height": 80
        },
        "outputId": "4ec14596-c062-499d-dc14-69ef07e90d02"
      },
      "source": [
        "#!pip install pattern3\n",
        "\n",
        "import requests\n",
        "from bs4 import BeautifulSoup\n",
        "import pattern3.web as web\n",
        "import re\n",
        "import numpy as np\n",
        "import pandas as pd \n",
        "\n",
        "\n",
        "site = 'https://podcasts.apple.com/in/genre/podcasts/id26'\n",
        "\n",
        "def getlinks(site):\n",
        "    try:\n",
        "        url = url = web.URL(site)\n",
        "        bs = BeautifulSoup(url.download(cached = False)) \n",
        "        links = []\n",
        "        for link in bs.findAll('a', href=True):\n",
        "            links.append(link['href'])\n",
        "    except:\n",
        "        print(\"Can't get any links bruh...\") \n",
        "    return links\n",
        "\n",
        "def genre_finder(links, pattern):\n",
        "    genres = [] \n",
        "    for link in links:\n",
        "            if re.search(pattern, link):\n",
        "                genres.append(link)\n",
        "    return genres\n",
        "\n",
        "\n",
        "links = getlinks(site) # get links from the page\n",
        "#print(*links, sep=\"\\n\")\n",
        "\n",
        "gpattern = 'https://podcasts.apple.com/in/genre/podcasts-' # find genres\n",
        "genres = genre_finder(links, gpattern)\n",
        "#print('Genres and sub-genres found :', len(genres), *genres, sep=\"\\n\")\n",
        "\n",
        "ppattern = 'https://podcasts.apple.com/in/podcast/'\n",
        "podcast_links = []\n",
        "\n",
        "for genre in genres:\n",
        "    all_links = getlinks(genre)\n",
        "    podcast_links.append(genre_finder(all_links, ppattern))\n",
        "\n",
        "podcast_links2 = list(set(np.concatenate(podcast_links).tolist()))\n",
        "\n",
        "\n",
        "columns= ['Name', 'Artwork', 'Genre IDs', 'Episode Count', 'Episode Durations','iTunes URL', 'Feed URL', 'Podcast URL', 'Description']\n",
        "\n",
        "df_podcast = pd.DataFrame([['-', '-', '-', '-', '-', '-', '-', '-', '-']], columns = columns)\n",
        "df_podcast"
      ],
      "execution_count": 34,
      "outputs": [
        {
          "output_type": "execute_result",
          "data": {
            "text/html": [
              "<div>\n",
              "<style scoped>\n",
              "    .dataframe tbody tr th:only-of-type {\n",
              "        vertical-align: middle;\n",
              "    }\n",
              "\n",
              "    .dataframe tbody tr th {\n",
              "        vertical-align: top;\n",
              "    }\n",
              "\n",
              "    .dataframe thead th {\n",
              "        text-align: right;\n",
              "    }\n",
              "</style>\n",
              "<table border=\"1\" class=\"dataframe\">\n",
              "  <thead>\n",
              "    <tr style=\"text-align: right;\">\n",
              "      <th></th>\n",
              "      <th>Name</th>\n",
              "      <th>Artwork</th>\n",
              "      <th>Genre IDs</th>\n",
              "      <th>Episode Count</th>\n",
              "      <th>Episode Durations</th>\n",
              "      <th>iTunes URL</th>\n",
              "      <th>Feed URL</th>\n",
              "      <th>Podcast URL</th>\n",
              "      <th>Description</th>\n",
              "    </tr>\n",
              "  </thead>\n",
              "  <tbody>\n",
              "    <tr>\n",
              "      <th>0</th>\n",
              "      <td>-</td>\n",
              "      <td>-</td>\n",
              "      <td>-</td>\n",
              "      <td>-</td>\n",
              "      <td>-</td>\n",
              "      <td>-</td>\n",
              "      <td>-</td>\n",
              "      <td>-</td>\n",
              "      <td>-</td>\n",
              "    </tr>\n",
              "  </tbody>\n",
              "</table>\n",
              "</div>"
            ],
            "text/plain": [
              "  Name Artwork Genre IDs  ... Feed URL Podcast URL Description\n",
              "0    -       -         -  ...        -           -           -\n",
              "\n",
              "[1 rows x 9 columns]"
            ]
          },
          "metadata": {
            "tags": []
          },
          "execution_count": 34
        }
      ]
    }
  ]
}